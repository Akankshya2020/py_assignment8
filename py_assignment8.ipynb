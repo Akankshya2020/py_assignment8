{
 "cells": [
  {
   "cell_type": "markdown",
   "id": "19e30a7c",
   "metadata": {},
   "source": [
    "# create a dictionary\n",
    "dict1 = {'data': '123',\n",
    "'science':'234',\n",
    "'AI': '235'}\n",
    "# write a program to sort a dictionary by key."
   ]
  },
  {
   "cell_type": "code",
   "execution_count": 9,
   "id": "480dc3ea",
   "metadata": {},
   "outputs": [],
   "source": [
    "dict1 = {'data': '123',\n",
    "'science':'234',\n",
    "'AI': '235'}\n",
    "\n"
   ]
  },
  {
   "cell_type": "code",
   "execution_count": 7,
   "id": "f1ccb891",
   "metadata": {},
   "outputs": [
    {
     "name": "stdout",
     "output_type": "stream",
     "text": [
      "AI - 235\n",
      "data - 123\n",
      "science - 234\n"
     ]
    }
   ],
   "source": [
    "for key in sorted(dict1):\n",
    "    print(\"%s - %s\" % (key,dict1[key]))"
   ]
  },
  {
   "cell_type": "markdown",
   "id": "d7d4096c",
   "metadata": {},
   "source": [
    "# Write a Python program to get a dictionary from an object's fields."
   ]
  },
  {
   "cell_type": "code",
   "execution_count": 5,
   "id": "b51ffe5f",
   "metadata": {},
   "outputs": [
    {
     "name": "stdout",
     "output_type": "stream",
     "text": [
      "these all are animals\n",
      "{'lion': 'carnivore', 'dog': 'omnivore', 'giraffe': 'herbivore'}\n"
     ]
    }
   ],
   "source": [
    "class get_dict:\n",
    "    def __init__(self):\n",
    "        self.lion = 'carnivore'\n",
    "        self.dog = 'omnivore'\n",
    "        self.giraffe = 'herbivore'\n",
    "    def print_it(self):\n",
    "        print(\"these all are animals\")\n",
    "animal=get_dict()\n",
    "animal.print_it()\n",
    "print(animal.__dict__)"
   ]
  },
  {
   "cell_type": "markdown",
   "id": "1a8c4019",
   "metadata": {},
   "source": [
    "# write a program to remove duplicates from Dictionary.\n"
   ]
  },
  {
   "cell_type": "code",
   "execution_count": 10,
   "id": "6b355684",
   "metadata": {},
   "outputs": [],
   "source": [
    "student={'sonam':25,'raju':23,'rama':30,'sita':21,'sonam':25}"
   ]
  },
  {
   "cell_type": "code",
   "execution_count": 14,
   "id": "244dbc3c",
   "metadata": {},
   "outputs": [
    {
     "name": "stdout",
     "output_type": "stream",
     "text": [
      "{'sonam': 25, 'raju': 23, 'rama': 30, 'sita': 21}\n"
     ]
    }
   ],
   "source": [
    "result={}\n",
    "for key,value in student.items():\n",
    "    if value not in result.values():\n",
    "        result[key]=value\n",
    "print(result)"
   ]
  },
  {
   "cell_type": "markdown",
   "id": "752a1912",
   "metadata": {},
   "source": [
    "# write a program to combine two dictionary adding values for common keys"
   ]
  },
  {
   "cell_type": "code",
   "execution_count": 16,
   "id": "8a2eeab1",
   "metadata": {},
   "outputs": [],
   "source": [
    "dict1={'a':30,'b':40,'c':20,'d':50}\n",
    "dict2={'a':130,'b':110,'c':120}"
   ]
  },
  {
   "cell_type": "code",
   "execution_count": 17,
   "id": "63c54ca3",
   "metadata": {},
   "outputs": [
    {
     "name": "stdout",
     "output_type": "stream",
     "text": [
      "{'a': 160, 'b': 150, 'c': 140}\n"
     ]
    }
   ],
   "source": [
    "for key in dict1:\n",
    "    if key in dict2:\n",
    "        dict2[key]=dict2[key]+dict1[key]\n",
    "    else:\n",
    "        pass\n",
    "print(dict2)"
   ]
  },
  {
   "cell_type": "markdown",
   "id": "5d8257e4",
   "metadata": {},
   "source": [
    "# write a program to print all unique values from a dictionary in a list"
   ]
  },
  {
   "cell_type": "code",
   "execution_count": 27,
   "id": "e591ddab",
   "metadata": {},
   "outputs": [],
   "source": [
    "data = [{\"V\":\"S001\"}, {\"V\": \"S002\"}, {\"VI\": \"S001\"}, {\"VI\": \"S005\"}, {\"VII\":\"S005\"}, {\n",
    "\"V\":\"S009\"},{\"VIII\":\"S007\"}]\n"
   ]
  },
  {
   "cell_type": "code",
   "execution_count": 33,
   "id": "89ba87a7",
   "metadata": {},
   "outputs": [
    {
     "name": "stdout",
     "output_type": "stream",
     "text": [
      "{'S001', 'S002', 'S007', 'S009', 'S005'}\n"
     ]
    }
   ],
   "source": [
    "unique_values={}\n",
    "unique_values = set( val for dic in data for val in dic.values())\n",
    "print(unique_values)\n",
    "\n"
   ]
  },
  {
   "cell_type": "code",
   "execution_count": null,
   "id": "eace73c6",
   "metadata": {},
   "outputs": [],
   "source": []
  }
 ],
 "metadata": {
  "kernelspec": {
   "display_name": "Python 3 (ipykernel)",
   "language": "python",
   "name": "python3"
  },
  "language_info": {
   "codemirror_mode": {
    "name": "ipython",
    "version": 3
   },
   "file_extension": ".py",
   "mimetype": "text/x-python",
   "name": "python",
   "nbconvert_exporter": "python",
   "pygments_lexer": "ipython3",
   "version": "3.9.7"
  }
 },
 "nbformat": 4,
 "nbformat_minor": 5
}
